{
 "cells": [
  {
   "cell_type": "raw",
   "id": "f3e5cd30-15a9-4f80-8af7-c4d439e5f20a",
   "metadata": {},
   "source": [
    "# 1. Explain the key features of Python that make it a popular choice for programming.\n",
    "\n",
    "soln- The key features which make python a popular choice for programming include :\n",
    " a) it has a simple syntax, structure and keywords\n",
    " b) it has a vast number of libraries eg. pandas, flask, etc.\n",
    " c) it is an object oriented programming\n",
    " d) used in embedded devices\n",
    " e) used in robotics, machine learning, chat gpt, etc."
   ]
  },
  {
   "cell_type": "raw",
   "id": "77508d8a-ef02-499b-90e4-aba0c4686646",
   "metadata": {},
   "source": [
    "# 2. Describe the role of predefined keywords in Python and provide examples of how they are used in a program.\n",
    "\n",
    "soln- Predefined keywords have special meanings used to define a syntax of the code. It cannot be used as an identifier, function or variable names.\n",
    "eg: if - used to make a conditional statement, for - used to create a loop, else- conditional statement, break- bused to terminate the loop, etc.\n"
   ]
  },
  {
   "cell_type": "code",
   "execution_count": null,
   "id": "3081d6f5-ae70-42e2-97d0-4c872ff5ab2f",
   "metadata": {},
   "outputs": [
    {
     "name": "stdout",
     "output_type": "stream",
     "text": [
      "2\n",
      "4\n",
      "6\n",
      "Shukla\n",
      "while loop is executed sucessfully without any break\n"
     ]
    }
   ],
   "source": [
    "# example of predefined keywords \n",
    "\n",
    "l = [ 2, 4 , 6 , \"Shukla\"]\n",
    "for i in l:\n",
    "    print (i)\n",
    "else:\n",
    "    print(\"while loop is executed sucessfully without any break\")"
   ]
  },
  {
   "cell_type": "raw",
   "id": "ff04bf7f-1abe-419e-abb0-221e7e5831a8",
   "metadata": {},
   "source": [
    "# 3. Compare and contrast mutable and immutable objects in Python with examples.\n",
    "\n",
    "soln- Mutable data type are those whose values can be changed or modified. eg: list, dictionaries, set\n",
    "\n",
    "Immutable data type are those whose values can't be changed or modified. eg: strings and tuples."
   ]
  },
  {
   "cell_type": "raw",
   "id": "2f2b1072-4c5c-47e9-83e0-ca032ee63c13",
   "metadata": {
    "vscode": {
     "languageId": "raw"
    }
   },
   "source": [
    "# 4. Discuss the different types of operators in Python and provide examples of how they are used.\n",
    "\n",
    "soln- different types of operators are : Arithmetic, comparison, assignment, logical, membership, identity and bitwise operators.\n",
    "\n",
    "Arithmetic operators:\n",
    "  a) + used for addition - a+b\n",
    "  b) - used for subtraction - a-b\n",
    "  C) * used for multiplication - a*b\n",
    "  d) / used for division - a/b\n",
    "  e) % modulus operator used to find remainder - a%b\n",
    "  f) ** exponential - a**b\n",
    "  g) // floor division - a//b\n",
    " \n",
    " Comparison operators:\n",
    "  a) == equal to - a==b\n",
    "  b) != not equal to - a != b\n",
    "  c) > greater than - a > b\n",
    "  d) < less than - a < b\n",
    "  e) >= greater than or equal to - a >= b\n",
    "  f) <= less than or equal to - a <= b\n",
    "\n",
    "Logical Operators: \n",
    "  a) and logical AND - a and b\n",
    "  b) or logical OR - a or b\n",
    "  c) not logical NOT - not a\n",
    "\n",
    "Bitwise Operators: \n",
    "  a) & bitwise AND - a & b\n",
    "  b) | bitwise OR - a | b\n",
    "  c) ^ bitwise XOR - a ^ b\n",
    "  d) ~ bitwise NOT - ~a\n",
    "  e) << bitwise left shift - a << b\n",
    "  f) >> bitwise right shift - a >> b\n",
    "\n",
    "Assignment Operators: \n",
    "  a) = assignment - a = b\n",
    "  b) += add and assign - a += b\n",
    "  c) -= subtract and assign - a -= b\n",
    "  d) *= multiply and assign - a *= b\n",
    "  e) /= divide and assign - a /= b\n",
    "  f) %= modulus and assign - a %= b\n",
    "  g) **= exponential and assign - a **= b\n",
    "  h) //= floor divide and assign - a //= b\n",
    "  i) &= bitwise AND and assign - a &= b\n",
    "  j) |= bitwise OR and assign - a |= b\n",
    "  k) ^= bitwise XOR and assign - a ^= b\n",
    "  l) <<= bitwise left shift and assign - a <<= b\n",
    "  m) >>= bitwise right shift and assign - a >>= b\n",
    "\n",
    "Identity Operators: \n",
    "  a) is - a is b\n",
    "  b) is not - a is not b\n",
    "\n",
    "Membership Operators: \n",
    "  a) in - a in b\n",
    "  b) not in - a not in b"
   ]
  },
  {
   "cell_type": "raw",
   "id": "982cc3ef",
   "metadata": {
    "vscode": {
     "languageId": "raw"
    }
   },
   "source": [
    "# 5.  Explain the concept of type casting in Python with examples.\n",
    "\n",
    "soln- Type casting is method to convert one data type into another. there are two types of type casting in python : Implicit and Explicit.\n",
    "      In implicit type casting, python converts one data type to another automatically. \n",
    "      eg:\n",
    "\n",
    "      a = 7\n",
    "      print(type(a))\n",
    "\n",
    "    #insights: here python automatically converts this datatype to int.\n",
    "\n",
    "    In explicit, Python needs user involvement to convert the variable data type into the required data type.\n",
    "    eg: int(), float(), str()\n"
   ]
  },
  {
   "cell_type": "code",
   "execution_count": null,
   "id": "b48768fa",
   "metadata": {
    "vscode": {
     "languageId": "plaintext"
    }
   },
   "outputs": [],
   "source": [
    "# 6.  How do conditional statements work in Python? Illustrate with examples.\n",
    "\n",
    "soln- Conditional statements allow us to make decisions in our code, which can make our code more efficient and easier to read. For example, if we want to print a message only if a certain condition is met, we can use a conditional statement."
   ]
  },
  {
   "cell_type": "code",
   "execution_count": null,
   "id": "e56a99fc",
   "metadata": {},
   "outputs": [],
   "source": [
    "# if condition\n",
    "if 10 > 5:\n",
    "    print(\"10 greater than 5\")\n",
    "\n",
    "print(\"Program ended\")\n"
   ]
  },
  {
   "cell_type": "code",
   "execution_count": null,
   "id": "fd788aa9",
   "metadata": {},
   "outputs": [],
   "source": [
    "# if..else statement \n",
    "x = 3\n",
    "if x == 4:\n",
    "    print(\"Yes\")\n",
    "else:\n",
    "    print(\"No\")\n"
   ]
  },
  {
   "cell_type": "raw",
   "id": "af1dae8a",
   "metadata": {
    "vscode": {
     "languageId": "raw"
    }
   },
   "source": [
    "# 7.  Describe the different types of loops in Python and their use cases with examples.\n",
    "\n",
    "soln- there are 3 types of loops in python :\n",
    "    a) for loop: Iterates over a sequence (e.g., list, tuple, string, dictionary).\n",
    "    b) while loop: Executes a block of code as long as a specified condition is true.\n",
    "    c) nested loop: one loop inside another loop."
   ]
  }
 ],
 "metadata": {
  "kernelspec": {
   "display_name": "Python 3 (ipykernel)",
   "language": "python",
   "name": "python3"
  },
  "language_info": {
   "codemirror_mode": {
    "name": "ipython",
    "version": 3
   },
   "file_extension": ".py",
   "mimetype": "text/x-python",
   "name": "python",
   "nbconvert_exporter": "python",
   "pygments_lexer": "ipython3",
   "version": "3.10.8"
  }
 },
 "nbformat": 4,
 "nbformat_minor": 5
}
